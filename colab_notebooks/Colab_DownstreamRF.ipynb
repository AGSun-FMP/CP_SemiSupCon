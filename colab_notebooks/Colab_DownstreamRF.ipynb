{
  "cells": [
    {
      "cell_type": "code",
      "execution_count": 1,
      "metadata": {
        "id": "XkG3G8Ya5GOt"
      },
      "outputs": [],
      "source": [
        "import numpy as np\n",
        "import random\n",
        "import re\n",
        "import sklearn\n",
        "import time\n",
        "import matplotlib.pyplot as plt\n",
        "from sklearn.model_selection import GroupKFold\n",
        "from sklearn.multioutput import MultiOutputClassifier\n",
        "import pandas as pd\n",
        "import os\n",
        "from sklearn.ensemble import RandomForestClassifier\n",
        "import os.path as osp\n",
        "import sys\n",
        "import pickle\n",
        "import warnings\n",
        "random.seed(4)\n",
        "np.random.seed(4)\n",
        "b22=True\n",
        "dino=False\n",
        "cellprof=False\n",
        "def rowN_remover(x):\n",
        "    return x.split(\"_\")[0]\n"
      ]
    },
    {
      "cell_type": "code",
      "execution_count": 2,
      "metadata": {
        "colab": {
          "base_uri": "https://localhost:8080/"
        },
        "id": "yQbP4t408usF",
        "outputId": "2043d7ba-b256-46fa-fabb-965b123da20e"
      },
      "outputs": [
        {
          "output_type": "stream",
          "name": "stdout",
          "text": [
            "Cloning into 'CP_SemiSupCon'...\n",
            "remote: Enumerating objects: 48, done.\u001b[K\n",
            "remote: Counting objects: 100% (48/48), done.\u001b[K\n",
            "remote: Compressing objects: 100% (46/46), done.\u001b[K\n",
            "remote: Total 48 (delta 13), reused 0 (delta 0), pack-reused 0\u001b[K\n",
            "Receiving objects: 100% (48/48), 5.49 MiB | 5.41 MiB/s, done.\n",
            "Resolving deltas: 100% (13/13), done.\n"
          ]
        }
      ],
      "source": [
        "!git clone https://github.com/AGSun-FMP/CP_SemiSupCon"
      ]
    },
    {
      "cell_type": "code",
      "execution_count": 5,
      "metadata": {
        "colab": {
          "base_uri": "https://localhost:8080/"
        },
        "id": "sB1ymWXj9NDC",
        "outputId": "c82b7e91-e790-4b49-bf88-d0e0cdeab460"
      },
      "outputs": [
        {
          "output_type": "stream",
          "name": "stdout",
          "text": [
            "--2024-05-15 08:31:06--  https://zenodo.org/records/10793843/files/allemb_supbs40unsup40_bbbc22_5CJ_supcon_meshupd.csv?download=1\n",
            "Resolving zenodo.org (zenodo.org)... 188.185.79.172, 188.184.98.238, 188.184.103.159, ...\n",
            "Connecting to zenodo.org (zenodo.org)|188.185.79.172|:443... connected.\n",
            "HTTP request sent, awaiting response... 200 OK\n",
            "Length: 646163009 (616M) [text/plain]\n",
            "Saving to: ‘allemb_supbs40unsup40_bbbc22_5CJ_supcon_meshupd.csv’\n",
            "\n",
            "allemb_supbs40unsup 100%[===================>] 616.23M  3.62MB/s    in 5m 9s   \n",
            "\n",
            "2024-05-15 08:36:16 (1.99 MB/s) - ‘allemb_supbs40unsup40_bbbc22_5CJ_supcon_meshupd.csv’ saved [646163009/646163009]\n",
            "\n"
          ]
        }
      ],
      "source": [
        "!wget https://zenodo.org/records/10793843/files/allemb_supbs40unsup40_bbbc22_5CJ_supcon_meshupd.csv?download=1 -O allemb_supbs40unsup40_bbbc22_5CJ_supcon_meshupd.csv"
      ]
    },
    {
      "cell_type": "code",
      "execution_count": 6,
      "metadata": {
        "colab": {
          "base_uri": "https://localhost:8080/",
          "height": 147
        },
        "id": "zO1xqQsg8i2-",
        "outputId": "5a08509f-e94a-4e23-c2d5-f80b0e95fbc3"
      },
      "outputs": [
        {
          "output_type": "execute_result",
          "data": {
            "text/plain": [
              "          0         1         2         3         4         5         6  \\\n",
              "0  0.015029 -0.110598 -0.026616 -0.022095 -0.050077 -0.057743 -0.072501   \n",
              "\n",
              "          7         8         9  ...       441       442       443       444  \\\n",
              "0 -0.028893 -0.010603  0.015269  ... -0.002973  0.082652  0.115795 -0.087896   \n",
              "\n",
              "       445       446       447  448       449  \\\n",
              "0  0.09408  0.020165  0.036446   -1  0.001605   \n",
              "\n",
              "                               Molecules  \n",
              "0  N-(4-BROMOBENZYL)-5-METHOXYTRYPTAMINE  \n",
              "\n",
              "[1 rows x 451 columns]"
            ],
            "text/html": [
              "\n",
              "  <div id=\"df-ff7409bd-288a-4eec-ae65-489af5f4c9f5\" class=\"colab-df-container\">\n",
              "    <div>\n",
              "<style scoped>\n",
              "    .dataframe tbody tr th:only-of-type {\n",
              "        vertical-align: middle;\n",
              "    }\n",
              "\n",
              "    .dataframe tbody tr th {\n",
              "        vertical-align: top;\n",
              "    }\n",
              "\n",
              "    .dataframe thead th {\n",
              "        text-align: right;\n",
              "    }\n",
              "</style>\n",
              "<table border=\"1\" class=\"dataframe\">\n",
              "  <thead>\n",
              "    <tr style=\"text-align: right;\">\n",
              "      <th></th>\n",
              "      <th>0</th>\n",
              "      <th>1</th>\n",
              "      <th>2</th>\n",
              "      <th>3</th>\n",
              "      <th>4</th>\n",
              "      <th>5</th>\n",
              "      <th>6</th>\n",
              "      <th>7</th>\n",
              "      <th>8</th>\n",
              "      <th>9</th>\n",
              "      <th>...</th>\n",
              "      <th>441</th>\n",
              "      <th>442</th>\n",
              "      <th>443</th>\n",
              "      <th>444</th>\n",
              "      <th>445</th>\n",
              "      <th>446</th>\n",
              "      <th>447</th>\n",
              "      <th>448</th>\n",
              "      <th>449</th>\n",
              "      <th>Molecules</th>\n",
              "    </tr>\n",
              "  </thead>\n",
              "  <tbody>\n",
              "    <tr>\n",
              "      <th>0</th>\n",
              "      <td>0.015029</td>\n",
              "      <td>-0.110598</td>\n",
              "      <td>-0.026616</td>\n",
              "      <td>-0.022095</td>\n",
              "      <td>-0.050077</td>\n",
              "      <td>-0.057743</td>\n",
              "      <td>-0.072501</td>\n",
              "      <td>-0.028893</td>\n",
              "      <td>-0.010603</td>\n",
              "      <td>0.015269</td>\n",
              "      <td>...</td>\n",
              "      <td>-0.002973</td>\n",
              "      <td>0.082652</td>\n",
              "      <td>0.115795</td>\n",
              "      <td>-0.087896</td>\n",
              "      <td>0.09408</td>\n",
              "      <td>0.020165</td>\n",
              "      <td>0.036446</td>\n",
              "      <td>-1</td>\n",
              "      <td>0.001605</td>\n",
              "      <td>N-(4-BROMOBENZYL)-5-METHOXYTRYPTAMINE</td>\n",
              "    </tr>\n",
              "  </tbody>\n",
              "</table>\n",
              "<p>1 rows × 451 columns</p>\n",
              "</div>\n",
              "    <div class=\"colab-df-buttons\">\n",
              "\n",
              "  <div class=\"colab-df-container\">\n",
              "    <button class=\"colab-df-convert\" onclick=\"convertToInteractive('df-ff7409bd-288a-4eec-ae65-489af5f4c9f5')\"\n",
              "            title=\"Convert this dataframe to an interactive table.\"\n",
              "            style=\"display:none;\">\n",
              "\n",
              "  <svg xmlns=\"http://www.w3.org/2000/svg\" height=\"24px\" viewBox=\"0 -960 960 960\">\n",
              "    <path d=\"M120-120v-720h720v720H120Zm60-500h600v-160H180v160Zm220 220h160v-160H400v160Zm0 220h160v-160H400v160ZM180-400h160v-160H180v160Zm440 0h160v-160H620v160ZM180-180h160v-160H180v160Zm440 0h160v-160H620v160Z\"/>\n",
              "  </svg>\n",
              "    </button>\n",
              "\n",
              "  <style>\n",
              "    .colab-df-container {\n",
              "      display:flex;\n",
              "      gap: 12px;\n",
              "    }\n",
              "\n",
              "    .colab-df-convert {\n",
              "      background-color: #E8F0FE;\n",
              "      border: none;\n",
              "      border-radius: 50%;\n",
              "      cursor: pointer;\n",
              "      display: none;\n",
              "      fill: #1967D2;\n",
              "      height: 32px;\n",
              "      padding: 0 0 0 0;\n",
              "      width: 32px;\n",
              "    }\n",
              "\n",
              "    .colab-df-convert:hover {\n",
              "      background-color: #E2EBFA;\n",
              "      box-shadow: 0px 1px 2px rgba(60, 64, 67, 0.3), 0px 1px 3px 1px rgba(60, 64, 67, 0.15);\n",
              "      fill: #174EA6;\n",
              "    }\n",
              "\n",
              "    .colab-df-buttons div {\n",
              "      margin-bottom: 4px;\n",
              "    }\n",
              "\n",
              "    [theme=dark] .colab-df-convert {\n",
              "      background-color: #3B4455;\n",
              "      fill: #D2E3FC;\n",
              "    }\n",
              "\n",
              "    [theme=dark] .colab-df-convert:hover {\n",
              "      background-color: #434B5C;\n",
              "      box-shadow: 0px 1px 3px 1px rgba(0, 0, 0, 0.15);\n",
              "      filter: drop-shadow(0px 1px 2px rgba(0, 0, 0, 0.3));\n",
              "      fill: #FFFFFF;\n",
              "    }\n",
              "  </style>\n",
              "\n",
              "    <script>\n",
              "      const buttonEl =\n",
              "        document.querySelector('#df-ff7409bd-288a-4eec-ae65-489af5f4c9f5 button.colab-df-convert');\n",
              "      buttonEl.style.display =\n",
              "        google.colab.kernel.accessAllowed ? 'block' : 'none';\n",
              "\n",
              "      async function convertToInteractive(key) {\n",
              "        const element = document.querySelector('#df-ff7409bd-288a-4eec-ae65-489af5f4c9f5');\n",
              "        const dataTable =\n",
              "          await google.colab.kernel.invokeFunction('convertToInteractive',\n",
              "                                                    [key], {});\n",
              "        if (!dataTable) return;\n",
              "\n",
              "        const docLinkHtml = 'Like what you see? Visit the ' +\n",
              "          '<a target=\"_blank\" href=https://colab.research.google.com/notebooks/data_table.ipynb>data table notebook</a>'\n",
              "          + ' to learn more about interactive tables.';\n",
              "        element.innerHTML = '';\n",
              "        dataTable['output_type'] = 'display_data';\n",
              "        await google.colab.output.renderOutput(dataTable, element);\n",
              "        const docLink = document.createElement('div');\n",
              "        docLink.innerHTML = docLinkHtml;\n",
              "        element.appendChild(docLink);\n",
              "      }\n",
              "    </script>\n",
              "  </div>\n",
              "\n",
              "    </div>\n",
              "  </div>\n"
            ],
            "application/vnd.google.colaboratory.intrinsic+json": {
              "type": "dataframe",
              "variable_name": "test_dfX0"
            }
          },
          "metadata": {},
          "execution_count": 6
        }
      ],
      "source": [
        "mesh_ohe_matrix=pd.read_csv(\"CP_SemiSupCon/annotations/b22mesh_ohe_matrix.csv\",index_col=0)\n",
        "bmoa_ohe_matrix=pd.read_csv(\"CP_SemiSupCon/annotations/b22_bmoa_ohematrix_ID2Name.csv\",index_col=0,delimiter=\";\")\n",
        "btarget_ohe_matrix=pd.read_csv(\"CP_SemiSupCon/annotations/b22_btarget_ohematrix_ID2Name.csv\",index_col=0,delimiter=\";\")\n",
        "emb_file=\"allemb_supbs40unsup40_bbbc22_5CJ_supcon_meshupd.csv\"\n",
        "if dino:\n",
        "    emb_file='embeddings/emb_bs192_b22_5Ctiff_DINO+_nobrightcont.csv'\n",
        "if cellprof:\n",
        "    emb_file=\"bbbc22/full_cellprofb22_nucnanfilt.csv\"\n",
        "if not dino or cellprof:\n",
        "    con_emb=True\n",
        "if con_emb:\n",
        "    test_dfX0=pd.read_csv(emb_file,index_col=0,delimiter=\";\")\n",
        "else:\n",
        "    if cellprof:\n",
        "        test_dfX0=pd.read_csv(emb_file,index_col=0,delimiter=\";\")\n",
        "    if dino:\n",
        "        test_dfX0=pd.read_csv(emb_file,header=None,index_col=0,delimiter=\";\")\n",
        "#print(len(test_dfX0))\n",
        "idkey=\"Molecules\"\n",
        "annos_list=[\"mesh\",\"bmoa\",\"btarget\"]\n",
        "if cellprof:\n",
        "    test_dfX0.index=test_dfX0.Image_Metadata_SOURCE_COMPOUND_NAME\n",
        "if b22:\n",
        "    if con_emb:\n",
        "        new_index=[rowN_remover(i) for i in test_dfX0.index]\n",
        "        test_dfX0[idkey]=new_index#dft.index\n",
        "    else:\n",
        "        test_dfX0[idkey]=test_dfX0.index\n",
        "    groups = [df for _, df in test_dfX0.groupby(idkey)]\n",
        "    random.shuffle(groups)\n",
        "    test_dfX0=pd.concat(groups).reset_index(drop=True)\n",
        "test_dfX0.head(1)"
      ]
    },
    {
      "cell_type": "code",
      "execution_count": null,
      "metadata": {
        "colab": {
          "base_uri": "https://localhost:8080/"
        },
        "id": "PGw-xOMx5GOy",
        "outputId": "386b6c78-66e9-43cc-c2c5-fec1f01097fb"
      },
      "outputs": [
        {
          "output_type": "stream",
          "name": "stdout",
          "text": [
            "mesh\n",
            "838 30240\n",
            "Test Accuracy:  0.18981481481481483\n",
            "Test Accuracy:  0.2199074074074074\n"
          ]
        }
      ],
      "source": [
        "for aoi in annos_list:#annotation of interest\n",
        "\n",
        "    if aoi==\"mesh\":\n",
        "        moi=mesh_ohe_matrix.copy()\n",
        "    if aoi==\"bmoa\":\n",
        "        moi=bmoa_ohe_matrix.copy()\n",
        "    if aoi==\"btarget\":\n",
        "        moi=btarget_ohe_matrix.copy()\n",
        "    #select matrix of interest\n",
        "    print(aoi)\n",
        "    t0=time.time()\n",
        "\n",
        "    skf = GroupKFold(n_splits=5)\n",
        "    dX=test_dfX0.copy()\n",
        "    if dino:\n",
        "        start_feat,end_feat=2,-1\n",
        "    if con_emb:\n",
        "        start_feat,end_feat=0,224#225:447 is embedding for replicate, 449 is contrastive entropy\n",
        "    if cellprof:\n",
        "        start_feat,end_feat=10,10+824\n",
        "\n",
        "    results=[]\n",
        "    #print(emb_file)\n",
        "    FullReporter={}\n",
        "    test_dfX_2=test_dfX0.copy()\n",
        "    test_dfX_2=test_dfX_2[test_dfX_2[idkey].isin(moi.index)]\n",
        "    moi=moi[moi.index.isin(test_dfX_2[idkey])]\n",
        "    print(len(test_dfX_2[idkey].unique()),len(test_dfX_2.index))\n",
        "    dX=test_dfX_2.copy()\n",
        "    for i, (train_index, test_index) in enumerate(skf.split(dX, groups=dX[idkey])):\n",
        "        trainX=dX.iloc[train_index].copy()\n",
        "        train_feat=trainX.iloc[:,start_feat:end_feat]\n",
        "        train_labels=moi.loc[trainX.Molecules]\n",
        "        testX=dX.iloc[test_index].copy()\n",
        "        test_feat=testX.iloc[:,start_feat:end_feat]\n",
        "        test_labels=moi.loc[testX.Molecules]\n",
        "        forest = RandomForestClassifier(random_state=1,n_jobs=-1)\n",
        "        multi_target_forest = MultiOutputClassifier(forest, n_jobs=-1)\n",
        "        multi_target_forest.fit(train_feat, train_labels)\n",
        "        score=multi_target_forest.score(test_feat,test_labels)\n",
        "        pred=multi_target_forest.predict(test_feat)\n",
        "        proba=multi_target_forest.predict_proba(test_feat)\n",
        "        FullReporter[\"CV\"+str(i+1)]=[pred,test_labels,score,proba]\n",
        "        results.append(score)\n",
        "        print(\"Test Accuracy: \", score)\n",
        "    print(\"Mean Accuracy over all cross validation folds: \",np.mean(results), \"% +/- \", np.std(results))\n",
        "\n",
        "\n",
        "\n"
      ]
    },
    {
      "cell_type": "code",
      "execution_count": null,
      "metadata": {
        "id": "JgjpJzot5GO2"
      },
      "outputs": [],
      "source": []
    }
  ],
  "metadata": {
    "colab": {
      "provenance": []
    },
    "kernelspec": {
      "display_name": "pyg",
      "language": "python",
      "name": "pyg"
    },
    "language_info": {
      "codemirror_mode": {
        "name": "ipython",
        "version": 3
      },
      "file_extension": ".py",
      "mimetype": "text/x-python",
      "name": "python",
      "nbconvert_exporter": "python",
      "pygments_lexer": "ipython3",
      "version": "3.9.0"
    }
  },
  "nbformat": 4,
  "nbformat_minor": 0
}